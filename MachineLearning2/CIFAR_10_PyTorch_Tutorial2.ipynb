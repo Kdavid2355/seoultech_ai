{
  "nbformat": 4,
  "nbformat_minor": 0,
  "metadata": {
    "colab": {
      "provenance": [],
      "gpuType": "T4"
    },
    "kernelspec": {
      "name": "python3",
      "display_name": "Python 3"
    },
    "language_info": {
      "name": "python"
    },
    "accelerator": "GPU"
  },
  "cells": [
    {
      "cell_type": "code",
      "source": [
        "!pip install torch\n",
        "!pip install torchmetrics\n",
        "!pip install torchvision"
      ],
      "metadata": {
        "colab": {
          "base_uri": "https://localhost:8080/"
        },
        "id": "-1I8mRsTYet9",
        "outputId": "185c1a6e-fe79-4332-8243-8b3ca4013dd6"
      },
      "execution_count": 1,
      "outputs": [
        {
          "output_type": "stream",
          "name": "stdout",
          "text": [
            "Requirement already satisfied: torch in /usr/local/lib/python3.10/dist-packages (2.1.0+cu118)\n",
            "Requirement already satisfied: filelock in /usr/local/lib/python3.10/dist-packages (from torch) (3.13.1)\n",
            "Requirement already satisfied: typing-extensions in /usr/local/lib/python3.10/dist-packages (from torch) (4.5.0)\n",
            "Requirement already satisfied: sympy in /usr/local/lib/python3.10/dist-packages (from torch) (1.12)\n",
            "Requirement already satisfied: networkx in /usr/local/lib/python3.10/dist-packages (from torch) (3.2.1)\n",
            "Requirement already satisfied: jinja2 in /usr/local/lib/python3.10/dist-packages (from torch) (3.1.2)\n",
            "Requirement already satisfied: fsspec in /usr/local/lib/python3.10/dist-packages (from torch) (2023.6.0)\n",
            "Requirement already satisfied: triton==2.1.0 in /usr/local/lib/python3.10/dist-packages (from torch) (2.1.0)\n",
            "Requirement already satisfied: MarkupSafe>=2.0 in /usr/local/lib/python3.10/dist-packages (from jinja2->torch) (2.1.3)\n",
            "Requirement already satisfied: mpmath>=0.19 in /usr/local/lib/python3.10/dist-packages (from sympy->torch) (1.3.0)\n",
            "Collecting torchmetrics\n",
            "  Downloading torchmetrics-1.2.0-py3-none-any.whl (805 kB)\n",
            "\u001b[2K     \u001b[90m━━━━━━━━━━━━━━━━━━━━━━━━━━━━━━━━━━━━━━━━\u001b[0m \u001b[32m805.2/805.2 kB\u001b[0m \u001b[31m6.4 MB/s\u001b[0m eta \u001b[36m0:00:00\u001b[0m\n",
            "\u001b[?25hRequirement already satisfied: numpy>1.20.0 in /usr/local/lib/python3.10/dist-packages (from torchmetrics) (1.23.5)\n",
            "Requirement already satisfied: torch>=1.8.1 in /usr/local/lib/python3.10/dist-packages (from torchmetrics) (2.1.0+cu118)\n",
            "Collecting lightning-utilities>=0.8.0 (from torchmetrics)\n",
            "  Downloading lightning_utilities-0.9.0-py3-none-any.whl (23 kB)\n",
            "Requirement already satisfied: packaging>=17.1 in /usr/local/lib/python3.10/dist-packages (from lightning-utilities>=0.8.0->torchmetrics) (23.2)\n",
            "Requirement already satisfied: typing-extensions in /usr/local/lib/python3.10/dist-packages (from lightning-utilities>=0.8.0->torchmetrics) (4.5.0)\n",
            "Requirement already satisfied: filelock in /usr/local/lib/python3.10/dist-packages (from torch>=1.8.1->torchmetrics) (3.13.1)\n",
            "Requirement already satisfied: sympy in /usr/local/lib/python3.10/dist-packages (from torch>=1.8.1->torchmetrics) (1.12)\n",
            "Requirement already satisfied: networkx in /usr/local/lib/python3.10/dist-packages (from torch>=1.8.1->torchmetrics) (3.2.1)\n",
            "Requirement already satisfied: jinja2 in /usr/local/lib/python3.10/dist-packages (from torch>=1.8.1->torchmetrics) (3.1.2)\n",
            "Requirement already satisfied: fsspec in /usr/local/lib/python3.10/dist-packages (from torch>=1.8.1->torchmetrics) (2023.6.0)\n",
            "Requirement already satisfied: triton==2.1.0 in /usr/local/lib/python3.10/dist-packages (from torch>=1.8.1->torchmetrics) (2.1.0)\n",
            "Requirement already satisfied: MarkupSafe>=2.0 in /usr/local/lib/python3.10/dist-packages (from jinja2->torch>=1.8.1->torchmetrics) (2.1.3)\n",
            "Requirement already satisfied: mpmath>=0.19 in /usr/local/lib/python3.10/dist-packages (from sympy->torch>=1.8.1->torchmetrics) (1.3.0)\n",
            "Installing collected packages: lightning-utilities, torchmetrics\n",
            "Successfully installed lightning-utilities-0.9.0 torchmetrics-1.2.0\n",
            "Requirement already satisfied: torchvision in /usr/local/lib/python3.10/dist-packages (0.16.0+cu118)\n",
            "Requirement already satisfied: numpy in /usr/local/lib/python3.10/dist-packages (from torchvision) (1.23.5)\n",
            "Requirement already satisfied: requests in /usr/local/lib/python3.10/dist-packages (from torchvision) (2.31.0)\n",
            "Requirement already satisfied: torch==2.1.0 in /usr/local/lib/python3.10/dist-packages (from torchvision) (2.1.0+cu118)\n",
            "Requirement already satisfied: pillow!=8.3.*,>=5.3.0 in /usr/local/lib/python3.10/dist-packages (from torchvision) (9.4.0)\n",
            "Requirement already satisfied: filelock in /usr/local/lib/python3.10/dist-packages (from torch==2.1.0->torchvision) (3.13.1)\n",
            "Requirement already satisfied: typing-extensions in /usr/local/lib/python3.10/dist-packages (from torch==2.1.0->torchvision) (4.5.0)\n",
            "Requirement already satisfied: sympy in /usr/local/lib/python3.10/dist-packages (from torch==2.1.0->torchvision) (1.12)\n",
            "Requirement already satisfied: networkx in /usr/local/lib/python3.10/dist-packages (from torch==2.1.0->torchvision) (3.2.1)\n",
            "Requirement already satisfied: jinja2 in /usr/local/lib/python3.10/dist-packages (from torch==2.1.0->torchvision) (3.1.2)\n",
            "Requirement already satisfied: fsspec in /usr/local/lib/python3.10/dist-packages (from torch==2.1.0->torchvision) (2023.6.0)\n",
            "Requirement already satisfied: triton==2.1.0 in /usr/local/lib/python3.10/dist-packages (from torch==2.1.0->torchvision) (2.1.0)\n",
            "Requirement already satisfied: charset-normalizer<4,>=2 in /usr/local/lib/python3.10/dist-packages (from requests->torchvision) (3.3.2)\n",
            "Requirement already satisfied: idna<4,>=2.5 in /usr/local/lib/python3.10/dist-packages (from requests->torchvision) (3.4)\n",
            "Requirement already satisfied: urllib3<3,>=1.21.1 in /usr/local/lib/python3.10/dist-packages (from requests->torchvision) (2.0.7)\n",
            "Requirement already satisfied: certifi>=2017.4.17 in /usr/local/lib/python3.10/dist-packages (from requests->torchvision) (2023.7.22)\n",
            "Requirement already satisfied: MarkupSafe>=2.0 in /usr/local/lib/python3.10/dist-packages (from jinja2->torch==2.1.0->torchvision) (2.1.3)\n",
            "Requirement already satisfied: mpmath>=0.19 in /usr/local/lib/python3.10/dist-packages (from sympy->torch==2.1.0->torchvision) (1.3.0)\n"
          ]
        }
      ]
    },
    {
      "cell_type": "markdown",
      "source": [
        "## 1. Import Library"
      ],
      "metadata": {
        "id": "9aOejMObYbyL"
      }
    },
    {
      "cell_type": "code",
      "execution_count": 2,
      "metadata": {
        "id": "1GMehW7dXYQM"
      },
      "outputs": [],
      "source": [
        "import os\n",
        "import torch\n",
        "import torch.nn as nn\n",
        "import torch.optim as optim\n",
        "import torchvision.transforms as T\n",
        "\n",
        "from torch.utils.data import DataLoader\n",
        "from torchvision.datasets import CIFAR10\n",
        "from torchmetrics import Accuracy\n",
        "from torchmetrics.aggregation import MeanMetric"
      ]
    },
    {
      "cell_type": "markdown",
      "source": [
        "## 2. Build Config & Directory"
      ],
      "metadata": {
        "id": "TLCsIQ4_YlEa"
      }
    },
    {
      "cell_type": "code",
      "source": [
        "title = 'CIFAR10'\n",
        "device = 'cuda' if torch.cuda.is_available() else 'cpu'\n",
        "data_root = 'data'\n",
        "batch_size = 128\n",
        "base_lr = 0.01\n",
        "momentum = 0.9\n",
        "epochs = 60\n",
        "checkpoint_dir = 'checkpoint'"
      ],
      "metadata": {
        "id": "rH4OZYqQYkbl"
      },
      "execution_count": 3,
      "outputs": []
    },
    {
      "cell_type": "code",
      "source": [
        "os.makedirs(checkpoint_dir, exist_ok=True)"
      ],
      "metadata": {
        "id": "Jw_ZVR0qYusm"
      },
      "execution_count": 4,
      "outputs": []
    },
    {
      "cell_type": "markdown",
      "source": [
        "## 3. Build Dataset"
      ],
      "metadata": {
        "id": "ZHR31wuKYyFO"
      }
    },
    {
      "cell_type": "code",
      "source": [
        "# Build dataset\n",
        "CIFAR10_MEAN = (0.491, 0.482, 0.447)\n",
        "CIFAR10_STD = (0.247, 0.243, 0.262)\n",
        "\n",
        "train_transform = T.Compose([\n",
        "    T.ToTensor(),\n",
        "    T.Normalize(CIFAR10_MEAN, CIFAR10_STD),\n",
        "])\n",
        "train_data = CIFAR10(data_root, train=True, download=True, transform=train_transform)\n",
        "train_loader = DataLoader(train_data, batch_size=batch_size, shuffle=True)\n",
        "\n",
        "val_transform = T.Compose([\n",
        "    T.ToTensor(),\n",
        "    T.Normalize(CIFAR10_MEAN, CIFAR10_STD),\n",
        "])\n",
        "val_data = CIFAR10(data_root, train=False, download=True, transform=val_transform)\n",
        "val_loader = DataLoader(val_data, batch_size=batch_size)"
      ],
      "metadata": {
        "colab": {
          "base_uri": "https://localhost:8080/"
        },
        "id": "g859fMQiYxOB",
        "outputId": "24cb7909-55e3-45a9-a48c-0d267e382259"
      },
      "execution_count": 5,
      "outputs": [
        {
          "output_type": "stream",
          "name": "stdout",
          "text": [
            "Downloading https://www.cs.toronto.edu/~kriz/cifar-10-python.tar.gz to data/cifar-10-python.tar.gz\n"
          ]
        },
        {
          "output_type": "stream",
          "name": "stderr",
          "text": [
            "100%|██████████| 170498071/170498071 [00:03<00:00, 48730332.02it/s]\n"
          ]
        },
        {
          "output_type": "stream",
          "name": "stdout",
          "text": [
            "Extracting data/cifar-10-python.tar.gz to data\n",
            "Files already downloaded and verified\n"
          ]
        }
      ]
    },
    {
      "cell_type": "markdown",
      "source": [
        "## 4. Build Model"
      ],
      "metadata": {
        "id": "bUpa27p6Y4GH"
      }
    },
    {
      "cell_type": "code",
      "source": [
        "class MyModel(nn.Module):\n",
        "    def __init__(self):\n",
        "        super(MyModel, self).__init__()\n",
        "        self.layers = nn.Sequential(\n",
        "            nn.Conv2d(3, 96, 3, 2, 1),\n",
        "            nn.ReLU(),\n",
        "            nn.Conv2d(96, 192, 3, 2, 1),\n",
        "            nn.ReLU(),\n",
        "            nn.Conv2d(192, 384, 3, 2, 1),\n",
        "            nn.ReLU(),\n",
        "        )\n",
        "        self.head = nn.Linear(384, 10)\n",
        "\n",
        "    def forward(self, x):\n",
        "        x = self.layers(x)\n",
        "        x = x.mean([-1, -2])\n",
        "        x = self.head(x)\n",
        "        return x\n",
        "\n",
        "model = MyModel()\n",
        "model = model.to(device)"
      ],
      "metadata": {
        "id": "PXO6ZHbeYwGS"
      },
      "execution_count": 6,
      "outputs": []
    },
    {
      "cell_type": "markdown",
      "source": [
        "## 5. Set Optimizer, Scheduler, Loss function"
      ],
      "metadata": {
        "id": "MCnsH2_EY8xE"
      }
    },
    {
      "cell_type": "code",
      "source": [
        "optimizer = optim.SGD(model.parameters(), lr=base_lr, momentum=momentum)\n",
        "scheduler = optim.lr_scheduler.CosineAnnealingLR(optimizer, epochs * len(train_loader))\n",
        "\n",
        "loss_fn = nn.CrossEntropyLoss()\n",
        "metric_fn = Accuracy(task='multiclass', num_classes=10)\n",
        "metric_fn = metric_fn.to(device)"
      ],
      "metadata": {
        "id": "NiUmSWZfY772"
      },
      "execution_count": 7,
      "outputs": []
    },
    {
      "cell_type": "markdown",
      "source": [
        "## 6. Define Train Loop"
      ],
      "metadata": {
        "id": "_-f4txdfZGtg"
      }
    },
    {
      "cell_type": "code",
      "source": [
        "def train(loader, model, optimizer, scheduler, loss_fn, metric_fn, device):\n",
        "    model.train()\n",
        "    loss_mean = MeanMetric()\n",
        "    metric_mean = MeanMetric()\n",
        "\n",
        "    for inputs, targets in loader:\n",
        "        inputs = inputs.to(device)\n",
        "        targets = targets.to(device)\n",
        "\n",
        "        outputs = model(inputs)\n",
        "        loss = loss_fn(outputs, targets)\n",
        "        metric = metric_fn(outputs, targets)\n",
        "\n",
        "        optimizer.zero_grad()\n",
        "        loss.backward()\n",
        "        optimizer.step()\n",
        "\n",
        "        loss_mean.update(loss.to('cpu'))\n",
        "        metric_mean.update(metric.to('cpu'))\n",
        "        scheduler.step()\n",
        "\n",
        "    summary = {'loss': loss_mean.compute(), 'metric': metric_mean.compute()}\n",
        "\n",
        "    return summary"
      ],
      "metadata": {
        "id": "2_ZhrZ3DZJ-1"
      },
      "execution_count": 8,
      "outputs": []
    },
    {
      "cell_type": "markdown",
      "source": [
        "## 7. Define Evaluation Loop"
      ],
      "metadata": {
        "id": "ajo2TQi-ZMBm"
      }
    },
    {
      "cell_type": "code",
      "source": [
        "def evaluate(loader, model, loss_fn, metric_fn, device):\n",
        "    model.eval()\n",
        "    loss_mean = MeanMetric()\n",
        "    metric_mean = MeanMetric()\n",
        "\n",
        "    for inputs, targets in loader:\n",
        "        inputs = inputs.to(device)\n",
        "        targets = targets.to(device)\n",
        "\n",
        "        with torch.no_grad():\n",
        "            outputs = model(inputs)\n",
        "        loss = loss_fn(outputs, targets)\n",
        "        metric = metric_fn(outputs, targets)\n",
        "\n",
        "        loss_mean.update(loss.to('cpu'))\n",
        "        metric_mean.update(metric.to('cpu'))\n",
        "\n",
        "    summary = {'loss': loss_mean.compute(), 'metric': metric_mean.compute()}\n",
        "\n",
        "    return summary"
      ],
      "metadata": {
        "id": "_x_083ETZLUO"
      },
      "execution_count": 9,
      "outputs": []
    },
    {
      "cell_type": "markdown",
      "source": [
        "## 8. Define Main Loop"
      ],
      "metadata": {
        "id": "J-f5mdbBZeAJ"
      }
    },
    {
      "cell_type": "code",
      "source": [
        "for epoch in range(epochs):\n",
        "    train_summary = train(train_loader, model, optimizer, scheduler, loss_fn, metric_fn, device)\n",
        "    val_summary = evaluate(val_loader, model, loss_fn, metric_fn, device)\n",
        "\n",
        "    print((f'Epoch {epoch+1}: '\n",
        "           + f'Train Loss {train_summary[\"loss\"]:.04f}, '\n",
        "           + f'Train Accuracy {train_summary[\"metric\"]:.04f}, '\n",
        "           + f'Test Loss {val_summary[\"loss\"]:.04f}, '\n",
        "           + f'Test Accuracy {val_summary[\"metric\"]:.04f}'))\n",
        "\n",
        "    state_dict = {\n",
        "        'epoch': epoch + 1,\n",
        "        'model': model.state_dict(),\n",
        "        'optimizer': optimizer.state_dict(),\n",
        "    }\n",
        "    checkpoint_path = f'{checkpoint_dir}/{title}_last.pth'\n",
        "    torch.save(state_dict, checkpoint_path)"
      ],
      "metadata": {
        "colab": {
          "base_uri": "https://localhost:8080/"
        },
        "id": "UXCYtDCuZVau",
        "outputId": "2218c38f-bf0f-46d0-a77a-9f30915439e8"
      },
      "execution_count": null,
      "outputs": [
        {
          "output_type": "stream",
          "name": "stdout",
          "text": [
            "Epoch 1: Train Loss 2.0310, Train Accuracy 0.2475, Test Loss 1.8184, Test Accuracy 0.3301\n",
            "Epoch 2: Train Loss 1.7164, Train Accuracy 0.3720, Test Loss 1.5915, Test Accuracy 0.4146\n",
            "Epoch 3: Train Loss 1.5540, Train Accuracy 0.4309, Test Loss 1.4708, Test Accuracy 0.4623\n",
            "Epoch 4: Train Loss 1.4708, Train Accuracy 0.4640, Test Loss 1.4260, Test Accuracy 0.4798\n",
            "Epoch 5: Train Loss 1.4000, Train Accuracy 0.4913, Test Loss 1.4228, Test Accuracy 0.4759\n",
            "Epoch 6: Train Loss 1.3314, Train Accuracy 0.5182, Test Loss 1.2873, Test Accuracy 0.5309\n",
            "Epoch 7: Train Loss 1.2691, Train Accuracy 0.5419, Test Loss 1.2367, Test Accuracy 0.5491\n",
            "Epoch 8: Train Loss 1.2128, Train Accuracy 0.5676, Test Loss 1.1874, Test Accuracy 0.5718\n",
            "Epoch 9: Train Loss 1.1600, Train Accuracy 0.5847, Test Loss 1.1470, Test Accuracy 0.5907\n",
            "Epoch 10: Train Loss 1.1182, Train Accuracy 0.5995, Test Loss 1.1174, Test Accuracy 0.6004\n",
            "Epoch 11: Train Loss 1.0679, Train Accuracy 0.6201, Test Loss 1.1090, Test Accuracy 0.6047\n",
            "Epoch 12: Train Loss 1.0224, Train Accuracy 0.6361, Test Loss 1.0834, Test Accuracy 0.6078\n",
            "Epoch 13: Train Loss 0.9889, Train Accuracy 0.6485, Test Loss 1.0573, Test Accuracy 0.6291\n",
            "Epoch 14: Train Loss 0.9504, Train Accuracy 0.6634, Test Loss 1.0253, Test Accuracy 0.6369\n",
            "Epoch 15: Train Loss 0.9175, Train Accuracy 0.6753, Test Loss 0.9865, Test Accuracy 0.6540\n",
            "Epoch 16: Train Loss 0.8828, Train Accuracy 0.6890, Test Loss 0.9790, Test Accuracy 0.6517\n",
            "Epoch 17: Train Loss 0.8507, Train Accuracy 0.7010, Test Loss 0.9803, Test Accuracy 0.6524\n",
            "Epoch 18: Train Loss 0.8250, Train Accuracy 0.7106, Test Loss 0.9652, Test Accuracy 0.6612\n",
            "Epoch 19: Train Loss 0.8021, Train Accuracy 0.7196, Test Loss 0.9375, Test Accuracy 0.6697\n",
            "Epoch 20: Train Loss 0.7729, Train Accuracy 0.7301, Test Loss 0.9030, Test Accuracy 0.6817\n",
            "Epoch 21: Train Loss 0.7490, Train Accuracy 0.7390, Test Loss 0.9363, Test Accuracy 0.6754\n",
            "Epoch 22: Train Loss 0.7200, Train Accuracy 0.7509, Test Loss 0.9049, Test Accuracy 0.6875\n"
          ]
        }
      ]
    },
    {
      "cell_type": "code",
      "source": [],
      "metadata": {
        "id": "q6LOwscHZdTm"
      },
      "execution_count": null,
      "outputs": []
    }
  ]
}