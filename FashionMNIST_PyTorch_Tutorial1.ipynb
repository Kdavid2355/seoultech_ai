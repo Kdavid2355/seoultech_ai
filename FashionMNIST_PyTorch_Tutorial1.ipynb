{
  "nbformat": 4,
  "nbformat_minor": 0,
  "metadata": {
    "colab": {
      "provenance": [],
      "gpuType": "T4"
    },
    "kernelspec": {
      "name": "python3",
      "display_name": "Python 3"
    },
    "language_info": {
      "name": "python"
    },
    "accelerator": "GPU"
  },
  "cells": [
    {
      "cell_type": "code",
      "source": [
        "!pip install torch\n",
        "!pip install torchmetrics\n",
        "!pip install torchvision"
      ],
      "metadata": {
        "colab": {
          "base_uri": "https://localhost:8080/"
        },
        "id": "XtCJkOPrPFtp",
        "outputId": "a1817a0c-612e-4b4b-b86e-099c72df4dc4"
      },
      "execution_count": 1,
      "outputs": [
        {
          "output_type": "stream",
          "name": "stdout",
          "text": [
            "Requirement already satisfied: torch in /usr/local/lib/python3.10/dist-packages (2.1.0+cu118)\n",
            "Requirement already satisfied: filelock in /usr/local/lib/python3.10/dist-packages (from torch) (3.13.1)\n",
            "Requirement already satisfied: typing-extensions in /usr/local/lib/python3.10/dist-packages (from torch) (4.5.0)\n",
            "Requirement already satisfied: sympy in /usr/local/lib/python3.10/dist-packages (from torch) (1.12)\n",
            "Requirement already satisfied: networkx in /usr/local/lib/python3.10/dist-packages (from torch) (3.2.1)\n",
            "Requirement already satisfied: jinja2 in /usr/local/lib/python3.10/dist-packages (from torch) (3.1.2)\n",
            "Requirement already satisfied: fsspec in /usr/local/lib/python3.10/dist-packages (from torch) (2023.6.0)\n",
            "Requirement already satisfied: triton==2.1.0 in /usr/local/lib/python3.10/dist-packages (from torch) (2.1.0)\n",
            "Requirement already satisfied: MarkupSafe>=2.0 in /usr/local/lib/python3.10/dist-packages (from jinja2->torch) (2.1.3)\n",
            "Requirement already satisfied: mpmath>=0.19 in /usr/local/lib/python3.10/dist-packages (from sympy->torch) (1.3.0)\n",
            "Collecting torchmetrics\n",
            "  Downloading torchmetrics-1.2.0-py3-none-any.whl (805 kB)\n",
            "\u001b[2K     \u001b[90m━━━━━━━━━━━━━━━━━━━━━━━━━━━━━━━━━━━━━━━━\u001b[0m \u001b[32m805.2/805.2 kB\u001b[0m \u001b[31m8.4 MB/s\u001b[0m eta \u001b[36m0:00:00\u001b[0m\n",
            "\u001b[?25hRequirement already satisfied: numpy>1.20.0 in /usr/local/lib/python3.10/dist-packages (from torchmetrics) (1.23.5)\n",
            "Requirement already satisfied: torch>=1.8.1 in /usr/local/lib/python3.10/dist-packages (from torchmetrics) (2.1.0+cu118)\n",
            "Collecting lightning-utilities>=0.8.0 (from torchmetrics)\n",
            "  Downloading lightning_utilities-0.9.0-py3-none-any.whl (23 kB)\n",
            "Requirement already satisfied: packaging>=17.1 in /usr/local/lib/python3.10/dist-packages (from lightning-utilities>=0.8.0->torchmetrics) (23.2)\n",
            "Requirement already satisfied: typing-extensions in /usr/local/lib/python3.10/dist-packages (from lightning-utilities>=0.8.0->torchmetrics) (4.5.0)\n",
            "Requirement already satisfied: filelock in /usr/local/lib/python3.10/dist-packages (from torch>=1.8.1->torchmetrics) (3.13.1)\n",
            "Requirement already satisfied: sympy in /usr/local/lib/python3.10/dist-packages (from torch>=1.8.1->torchmetrics) (1.12)\n",
            "Requirement already satisfied: networkx in /usr/local/lib/python3.10/dist-packages (from torch>=1.8.1->torchmetrics) (3.2.1)\n",
            "Requirement already satisfied: jinja2 in /usr/local/lib/python3.10/dist-packages (from torch>=1.8.1->torchmetrics) (3.1.2)\n",
            "Requirement already satisfied: fsspec in /usr/local/lib/python3.10/dist-packages (from torch>=1.8.1->torchmetrics) (2023.6.0)\n",
            "Requirement already satisfied: triton==2.1.0 in /usr/local/lib/python3.10/dist-packages (from torch>=1.8.1->torchmetrics) (2.1.0)\n",
            "Requirement already satisfied: MarkupSafe>=2.0 in /usr/local/lib/python3.10/dist-packages (from jinja2->torch>=1.8.1->torchmetrics) (2.1.3)\n",
            "Requirement already satisfied: mpmath>=0.19 in /usr/local/lib/python3.10/dist-packages (from sympy->torch>=1.8.1->torchmetrics) (1.3.0)\n",
            "Installing collected packages: lightning-utilities, torchmetrics\n",
            "Successfully installed lightning-utilities-0.9.0 torchmetrics-1.2.0\n",
            "Requirement already satisfied: torchvision in /usr/local/lib/python3.10/dist-packages (0.16.0+cu118)\n",
            "Requirement already satisfied: numpy in /usr/local/lib/python3.10/dist-packages (from torchvision) (1.23.5)\n",
            "Requirement already satisfied: requests in /usr/local/lib/python3.10/dist-packages (from torchvision) (2.31.0)\n",
            "Requirement already satisfied: torch==2.1.0 in /usr/local/lib/python3.10/dist-packages (from torchvision) (2.1.0+cu118)\n",
            "Requirement already satisfied: pillow!=8.3.*,>=5.3.0 in /usr/local/lib/python3.10/dist-packages (from torchvision) (9.4.0)\n",
            "Requirement already satisfied: filelock in /usr/local/lib/python3.10/dist-packages (from torch==2.1.0->torchvision) (3.13.1)\n",
            "Requirement already satisfied: typing-extensions in /usr/local/lib/python3.10/dist-packages (from torch==2.1.0->torchvision) (4.5.0)\n",
            "Requirement already satisfied: sympy in /usr/local/lib/python3.10/dist-packages (from torch==2.1.0->torchvision) (1.12)\n",
            "Requirement already satisfied: networkx in /usr/local/lib/python3.10/dist-packages (from torch==2.1.0->torchvision) (3.2.1)\n",
            "Requirement already satisfied: jinja2 in /usr/local/lib/python3.10/dist-packages (from torch==2.1.0->torchvision) (3.1.2)\n",
            "Requirement already satisfied: fsspec in /usr/local/lib/python3.10/dist-packages (from torch==2.1.0->torchvision) (2023.6.0)\n",
            "Requirement already satisfied: triton==2.1.0 in /usr/local/lib/python3.10/dist-packages (from torch==2.1.0->torchvision) (2.1.0)\n",
            "Requirement already satisfied: charset-normalizer<4,>=2 in /usr/local/lib/python3.10/dist-packages (from requests->torchvision) (3.3.2)\n",
            "Requirement already satisfied: idna<4,>=2.5 in /usr/local/lib/python3.10/dist-packages (from requests->torchvision) (3.4)\n",
            "Requirement already satisfied: urllib3<3,>=1.21.1 in /usr/local/lib/python3.10/dist-packages (from requests->torchvision) (2.0.7)\n",
            "Requirement already satisfied: certifi>=2017.4.17 in /usr/local/lib/python3.10/dist-packages (from requests->torchvision) (2023.7.22)\n",
            "Requirement already satisfied: MarkupSafe>=2.0 in /usr/local/lib/python3.10/dist-packages (from jinja2->torch==2.1.0->torchvision) (2.1.3)\n",
            "Requirement already satisfied: mpmath>=0.19 in /usr/local/lib/python3.10/dist-packages (from sympy->torch==2.1.0->torchvision) (1.3.0)\n"
          ]
        }
      ]
    },
    {
      "cell_type": "markdown",
      "source": [
        "## 1. Import Library"
      ],
      "metadata": {
        "id": "ioSlsnuvQMf5"
      }
    },
    {
      "cell_type": "code",
      "execution_count": 2,
      "metadata": {
        "id": "wyROAyvEOOpR"
      },
      "outputs": [],
      "source": [
        "import os\n",
        "import torch\n",
        "import torch.nn as nn\n",
        "import torch.optim as optim\n",
        "import torchvision.transforms as T\n",
        "\n",
        "from torch.utils.data import DataLoader\n",
        "from torchvision.datasets import FashionMNIST\n",
        "from torchmetrics import Accuracy\n",
        "from torchmetrics.aggregation import MeanMetric"
      ]
    },
    {
      "cell_type": "markdown",
      "source": [
        "## 2. Build Config"
      ],
      "metadata": {
        "id": "3Z1WSzsLQQ_X"
      }
    },
    {
      "cell_type": "code",
      "source": [
        "# Build config\n",
        "title = 'FashionMNIST'\n",
        "device = 'cuda' if torch.cuda.is_available() else 'cpu'\n",
        "data_root = 'data'\n",
        "batch_size = 64\n",
        "base_lr = 0.01\n",
        "momentum = 0.9\n",
        "epochs = 5\n",
        "checkpoint_dir = 'checkpoint'"
      ],
      "metadata": {
        "id": "ADtGBEhdPEbo"
      },
      "execution_count": 3,
      "outputs": []
    },
    {
      "cell_type": "markdown",
      "source": [
        "## 3. Build Directory"
      ],
      "metadata": {
        "id": "PkaZ2ot5QWOy"
      }
    },
    {
      "cell_type": "code",
      "source": [
        "# Build directory\n",
        "os.makedirs(checkpoint_dir, exist_ok=True)"
      ],
      "metadata": {
        "id": "4XKxLQ77QLRz"
      },
      "execution_count": 4,
      "outputs": []
    },
    {
      "cell_type": "markdown",
      "source": [
        "## 4. Build Dataset"
      ],
      "metadata": {
        "id": "r7rx1BvcQaNe"
      }
    },
    {
      "cell_type": "code",
      "source": [
        "# Build dataset\n",
        "train_transform = T.Compose([\n",
        "    T.ToTensor(),\n",
        "    T.Normalize((0.5,), (0.5,)),\n",
        "])\n",
        "train_data = FashionMNIST(data_root, train=True, download=True, transform=train_transform)\n",
        "train_loader = DataLoader(train_data, batch_size=batch_size, shuffle=True)\n",
        "\n",
        "val_transform = T.Compose([\n",
        "    T.ToTensor(),\n",
        "    T.Normalize((0.5,), (0.5,)),\n",
        "])\n",
        "val_data = FashionMNIST(data_root, train=False, download=True, transform=val_transform)\n",
        "val_loader = DataLoader(val_data, batch_size=batch_size)"
      ],
      "metadata": {
        "colab": {
          "base_uri": "https://localhost:8080/"
        },
        "id": "O87SoH0NQYhV",
        "outputId": "12acd634-dc4f-4966-cf3b-6819ae84da4d"
      },
      "execution_count": 5,
      "outputs": [
        {
          "output_type": "stream",
          "name": "stdout",
          "text": [
            "Downloading http://fashion-mnist.s3-website.eu-central-1.amazonaws.com/train-images-idx3-ubyte.gz\n",
            "Downloading http://fashion-mnist.s3-website.eu-central-1.amazonaws.com/train-images-idx3-ubyte.gz to data/FashionMNIST/raw/train-images-idx3-ubyte.gz\n"
          ]
        },
        {
          "output_type": "stream",
          "name": "stderr",
          "text": [
            "100%|██████████| 26421880/26421880 [00:01<00:00, 13607267.55it/s]\n"
          ]
        },
        {
          "output_type": "stream",
          "name": "stdout",
          "text": [
            "Extracting data/FashionMNIST/raw/train-images-idx3-ubyte.gz to data/FashionMNIST/raw\n",
            "\n",
            "Downloading http://fashion-mnist.s3-website.eu-central-1.amazonaws.com/train-labels-idx1-ubyte.gz\n",
            "Downloading http://fashion-mnist.s3-website.eu-central-1.amazonaws.com/train-labels-idx1-ubyte.gz to data/FashionMNIST/raw/train-labels-idx1-ubyte.gz\n"
          ]
        },
        {
          "output_type": "stream",
          "name": "stderr",
          "text": [
            "100%|██████████| 29515/29515 [00:00<00:00, 195449.04it/s]\n"
          ]
        },
        {
          "output_type": "stream",
          "name": "stdout",
          "text": [
            "Extracting data/FashionMNIST/raw/train-labels-idx1-ubyte.gz to data/FashionMNIST/raw\n",
            "\n",
            "Downloading http://fashion-mnist.s3-website.eu-central-1.amazonaws.com/t10k-images-idx3-ubyte.gz\n",
            "Downloading http://fashion-mnist.s3-website.eu-central-1.amazonaws.com/t10k-images-idx3-ubyte.gz to data/FashionMNIST/raw/t10k-images-idx3-ubyte.gz\n"
          ]
        },
        {
          "output_type": "stream",
          "name": "stderr",
          "text": [
            "100%|██████████| 4422102/4422102 [00:01<00:00, 3745787.24it/s]\n"
          ]
        },
        {
          "output_type": "stream",
          "name": "stdout",
          "text": [
            "Extracting data/FashionMNIST/raw/t10k-images-idx3-ubyte.gz to data/FashionMNIST/raw\n",
            "\n",
            "Downloading http://fashion-mnist.s3-website.eu-central-1.amazonaws.com/t10k-labels-idx1-ubyte.gz\n",
            "Downloading http://fashion-mnist.s3-website.eu-central-1.amazonaws.com/t10k-labels-idx1-ubyte.gz to data/FashionMNIST/raw/t10k-labels-idx1-ubyte.gz\n"
          ]
        },
        {
          "output_type": "stream",
          "name": "stderr",
          "text": [
            "100%|██████████| 5148/5148 [00:00<00:00, 5553569.19it/s]"
          ]
        },
        {
          "output_type": "stream",
          "name": "stdout",
          "text": [
            "Extracting data/FashionMNIST/raw/t10k-labels-idx1-ubyte.gz to data/FashionMNIST/raw\n",
            "\n"
          ]
        },
        {
          "output_type": "stream",
          "name": "stderr",
          "text": [
            "\n"
          ]
        }
      ]
    },
    {
      "cell_type": "markdown",
      "source": [
        "## 5. Build Model"
      ],
      "metadata": {
        "id": "ME6AwsGmQ-JA"
      }
    },
    {
      "cell_type": "code",
      "source": [
        "# Define model\n",
        "class MyModel(nn.Module):\n",
        "    def __init__(self):\n",
        "        super(MyModel, self).__init__()\n",
        "        self.head = nn.Linear(28 * 28, 10)\n",
        "\n",
        "    def forward(self, x):\n",
        "        x = x.reshape((x.shape[0], -1))\n",
        "        x = self.head(x)\n",
        "        return x\n",
        "\n",
        "# Build model\n",
        "model = MyModel()\n",
        "\n",
        "# Move model to device\n",
        "model = model.to(device)\n",
        "\n",
        "# Build model\n",
        "model = MyModel()\n",
        "print(model)\n",
        "\n",
        "# Move model to device\n",
        "model = model.to(device)"
      ],
      "metadata": {
        "colab": {
          "base_uri": "https://localhost:8080/"
        },
        "id": "lT4ENiB6QdB-",
        "outputId": "28cd86bf-3208-47a5-aa57-deb9de688204"
      },
      "execution_count": 6,
      "outputs": [
        {
          "output_type": "stream",
          "name": "stdout",
          "text": [
            "MyModel(\n",
            "  (head): Linear(in_features=784, out_features=10, bias=True)\n",
            ")\n"
          ]
        }
      ]
    },
    {
      "cell_type": "markdown",
      "source": [
        "## 6. Set Optimizer, Scheduler, Loss function"
      ],
      "metadata": {
        "id": "jKViux7LRBO4"
      }
    },
    {
      "cell_type": "code",
      "source": [
        "# Build optimizer\n",
        "optimizer = optim.SGD(model.parameters(), lr=base_lr, momentum=momentum)\n",
        "\n",
        "# Build scheduler\n",
        "scheduler = optim.lr_scheduler.CosineAnnealingLR(optimizer, epochs * len(train_loader))\n",
        "\n",
        "# Build loss function\n",
        "loss_fn = nn.CrossEntropyLoss()\n",
        "\n",
        "# Build metric function\n",
        "metric_fn = Accuracy(task='multiclass', num_classes=10)\n",
        "metric_fn = metric_fn.to(device)"
      ],
      "metadata": {
        "id": "COT3fX4vQic-"
      },
      "execution_count": 7,
      "outputs": []
    },
    {
      "cell_type": "markdown",
      "source": [
        "## 7. Define Train Loop"
      ],
      "metadata": {
        "id": "JovisVBgRLfM"
      }
    },
    {
      "cell_type": "code",
      "source": [
        "# Define training loop\n",
        "def train(loader, model, optimizer, scheduler, loss_fn, metric_fn, device):\n",
        "    # Set model to train mode\n",
        "    model.train()\n",
        "\n",
        "    # Create average meters to measure loss and metric\n",
        "    loss_mean = MeanMetric()\n",
        "    metric_mean = MeanMetric()\n",
        "\n",
        "    # train model for one epoch\n",
        "    for inputs, targets in loader:\n",
        "        # Move data to device\n",
        "        inputs = inputs.to(device)\n",
        "        targets = targets.to(device)\n",
        "\n",
        "        # Forward\n",
        "        outputs = model(inputs)\n",
        "        loss = loss_fn(outputs, targets)\n",
        "        metric = metric_fn(outputs, targets)\n",
        "\n",
        "        # Backward\n",
        "        optimizer.zero_grad()\n",
        "        loss.backward()\n",
        "        optimizer.step()\n",
        "\n",
        "        # Update statistics\n",
        "        loss_mean.update(loss.to('cpu'))\n",
        "        metric_mean.update(metric.to('cpu'))\n",
        "\n",
        "        # Update learning rate\n",
        "        scheduler.step()\n",
        "\n",
        "    # Summarize statistics\n",
        "    summary = {'loss': loss_mean.compute(), 'metric': metric_mean.compute()}\n",
        "\n",
        "    return summary"
      ],
      "metadata": {
        "id": "CaSXl3EiRIu2"
      },
      "execution_count": 8,
      "outputs": []
    },
    {
      "cell_type": "markdown",
      "source": [
        "## 8. Define Evaluation Loop"
      ],
      "metadata": {
        "id": "alsKRhYPRRR0"
      }
    },
    {
      "cell_type": "code",
      "source": [
        "# Define evaluation function\n",
        "def evaluate(loader, model, loss_fn, metric_fn, device):\n",
        "    # Set model to evaluation mode\n",
        "    model.eval()\n",
        "\n",
        "    # Create average meters to measure loss and accuracy\n",
        "    loss_mean = MeanMetric()\n",
        "    metric_mean = MeanMetric()\n",
        "\n",
        "    # Evalute model for one epoch\n",
        "    for inputs, targets in loader:\n",
        "        # Move data to device\n",
        "        inputs = inputs.to(device)\n",
        "        targets = targets.to(device)\n",
        "\n",
        "        # Forward\n",
        "        with torch.no_grad():\n",
        "            outputs = model(inputs)\n",
        "        loss = loss_fn(outputs, targets)\n",
        "        metric = metric_fn(outputs, targets)\n",
        "\n",
        "        # Update statistics\n",
        "        loss_mean.update(loss.to('cpu'))\n",
        "        metric_mean.update(metric.to('cpu'))\n",
        "\n",
        "    # Summarize statistics\n",
        "    summary = {'loss': loss_mean.compute(), 'metric': metric_mean.compute()}\n",
        "\n",
        "    return summary"
      ],
      "metadata": {
        "id": "DjGCb8UsROt8"
      },
      "execution_count": 9,
      "outputs": []
    },
    {
      "cell_type": "markdown",
      "source": [
        "## 9. Define Main Loop"
      ],
      "metadata": {
        "id": "m9pJcOSLR16i"
      }
    },
    {
      "cell_type": "code",
      "source": [
        "# Main loop\n",
        "for epoch in range(epochs):\n",
        "    # train one epoch\n",
        "    train_summary = train(train_loader, model, optimizer, scheduler, loss_fn, metric_fn, device)\n",
        "\n",
        "    # evaluate one epoch\n",
        "    val_summary = evaluate(val_loader, model, loss_fn, metric_fn, device)\n",
        "\n",
        "    # print log\n",
        "    print((f'Epoch {epoch+1}: '\n",
        "           + f'Train Loss {train_summary[\"loss\"]:.04f}, '\n",
        "           + f'Train Accuracy {train_summary[\"metric\"]:.04f}, '\n",
        "           + f'Test Loss {val_summary[\"loss\"]:.04f}, '\n",
        "           + f'Test Accuracy {val_summary[\"metric\"]:.04f}'))\n",
        "\n",
        "    # save model\n",
        "    state_dict = {\n",
        "        'epoch': epoch + 1,\n",
        "        'model': model.state_dict(),\n",
        "        'optimizer': optimizer.state_dict(),\n",
        "    }\n",
        "    checkpoint_path = f'{checkpoint_dir}/{title}_last.pth'\n",
        "    torch.save(state_dict, checkpoint_path)"
      ],
      "metadata": {
        "colab": {
          "base_uri": "https://localhost:8080/"
        },
        "id": "WB7PgbVmRUVG",
        "outputId": "1f362970-f116-4920-add7-eb024414cb39"
      },
      "execution_count": 10,
      "outputs": [
        {
          "output_type": "stream",
          "name": "stdout",
          "text": [
            "Epoch 1: Train Loss 0.5293, Train Accuracy 0.8143, Test Loss 0.4886, Test Accuracy 0.8312\n",
            "Epoch 2: Train Loss 0.4489, Train Accuracy 0.8435, Test Loss 0.4666, Test Accuracy 0.8354\n",
            "Epoch 3: Train Loss 0.4231, Train Accuracy 0.8530, Test Loss 0.4689, Test Accuracy 0.8313\n",
            "Epoch 4: Train Loss 0.4064, Train Accuracy 0.8596, Test Loss 0.4454, Test Accuracy 0.8421\n",
            "Epoch 5: Train Loss 0.3965, Train Accuracy 0.8633, Test Loss 0.4423, Test Accuracy 0.8438\n"
          ]
        }
      ]
    },
    {
      "cell_type": "markdown",
      "source": [
        "## 10. Load Model"
      ],
      "metadata": {
        "id": "5RtEdn5-SV5Z"
      }
    },
    {
      "cell_type": "code",
      "source": [
        "# Load model\n",
        "model_pretrained = MyModel()\n",
        "\n",
        "checkpoint_path = f'{checkpoint_dir}/{title}_last.pth'\n",
        "state_dict = torch.load(checkpoint_path)\n",
        "\n",
        "model_pretrained.load_state_dict(state_dict['model'])"
      ],
      "metadata": {
        "colab": {
          "base_uri": "https://localhost:8080/"
        },
        "id": "cz1oh61OR89Q",
        "outputId": "7b70205d-43ba-45b4-b1c1-e98576d1c4e4"
      },
      "execution_count": 11,
      "outputs": [
        {
          "output_type": "execute_result",
          "data": {
            "text/plain": [
              "<All keys matched successfully>"
            ]
          },
          "metadata": {},
          "execution_count": 11
        }
      ]
    },
    {
      "cell_type": "markdown",
      "source": [
        "## 11. Comparison with randomly initiailized Model"
      ],
      "metadata": {
        "id": "scWfBeWYSwBy"
      }
    },
    {
      "cell_type": "code",
      "source": [
        "model_random = MyModel()\n",
        "\n",
        "model_random.to(device)\n",
        "model_pretrained.to(device)\n",
        "\n",
        "random_summary = evaluate(val_loader, model_random, loss_fn, metric_fn, device)\n",
        "pretrained_summary = evaluate(val_loader, model_pretrained, loss_fn, metric_fn, device)\n",
        "\n",
        "print(f'[Random] Test Acc {random_summary[\"metric\"]:.04f}')\n",
        "print(f'[Pretrained] Test Acc {pretrained_summary[\"metric\"]:.04f}')"
      ],
      "metadata": {
        "colab": {
          "base_uri": "https://localhost:8080/"
        },
        "id": "_0j7msiwSYNg",
        "outputId": "6de56d26-7499-46b9-9d15-ffab5364475c"
      },
      "execution_count": 12,
      "outputs": [
        {
          "output_type": "stream",
          "name": "stdout",
          "text": [
            "[Random] Test Acc 0.0616\n",
            "[Pretrained] Test Acc 0.8438\n"
          ]
        }
      ]
    },
    {
      "cell_type": "code",
      "source": [],
      "metadata": {
        "id": "f8XwKhsyTM74"
      },
      "execution_count": 12,
      "outputs": []
    }
  ]
}